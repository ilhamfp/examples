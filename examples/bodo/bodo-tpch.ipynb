{
 "cells": [
  {
   "cell_type": "markdown",
   "metadata": {},
   "source": [
    "# TPC-H - Single-Node Bodo - Jupyter Notebook\n",
    "\n",
    "TPC-H is a decision support benchmark that offers business-oriented ad hoc queries.\n",
    "More information can be found [here](http://www.tpc.org/tpch)\n",
    "\n",
    "The queries are originally in SQL format and here they are implemented using the pandas API.\n",
    "\n",
    "By defaults runs use Bodo. Hence, data is distributed in chunks across processes.\n",
    "\n",
    "Dataset size is 2GB.\n",
    "\n",
    "There's a larger dataset available on \"s3://bodo-example-data/tpch/s4/\" which is 4GB. \n",
    "\n",
    "\n",
    "**The Bodo parallel cluster in this example runs within the same Saturn Cloud resource as the notebook.** Thus, to increase the performance of the Bodo cluster you only need to increase the instance size of the Jupyter Server resource it's running on.\n",
    "\n",
    "**To scale and run your application with multiple nodes you can use [Bodo platform](https://platform.bodo.ai/account/login)**"
   ]
  },
  {
   "cell_type": "markdown",
   "metadata": {},
   "source": [
    "## Start an IPyParallel cluster\n",
    "\n",
    "Run the following code in a cell to start an IPyParallel cluster. IPyParallel is used to interactively control a cluster of IPython processes. The variable `n` is used to specify the number of clusters based on the number of CPU cores available (up to 8 in the free Bodo Community Edition)."
   ]
  },
  {
   "cell_type": "code",
   "execution_count": null,
   "metadata": {},
   "outputs": [],
   "source": [
    "import ipyparallel as ipp\n",
    "import psutil\n",
    "\n",
    "n = min(psutil.cpu_count(logical=False), 8)\n",
    "\n",
    "# command to create and start the local cluster\n",
    "rc = ipp.Cluster(engines=\"mpi\", n=n).start_and_connect_sync(activate=True)"
   ]
  },
  {
   "cell_type": "markdown",
   "metadata": {},
   "source": [
    "The following code imports bodo and verifies that the IPyParallel cluster is set up correctly"
   ]
  },
  {
   "cell_type": "code",
   "execution_count": null,
   "metadata": {},
   "outputs": [],
   "source": [
    "%%px\n",
    "import bodo\n",
    "\n",
    "print(f\"Hello World from rank {bodo.get_rank()}. Total ranks={bodo.get_size()}\")"
   ]
  },
  {
   "cell_type": "code",
   "execution_count": null,
   "metadata": {
    "execution": {
     "iopub.execute_input": "2022-04-04T23:48:34.551756Z",
     "iopub.status.busy": "2022-04-04T23:48:34.551374Z",
     "iopub.status.idle": "2022-04-04T23:48:44.880272Z",
     "shell.execute_reply": "2022-04-04T23:48:44.879646Z",
     "shell.execute_reply.started": "2022-04-04T23:48:34.551724Z"
    },
    "tags": []
   },
   "outputs": [],
   "source": [
    "%%px\n",
    "import bodo\n",
    "import time\n",
    "import numpy as np\n",
    "import pandas as pd"
   ]
  },
  {
   "cell_type": "markdown",
   "metadata": {},
   "source": [
    "<a id=\"loading_data\"></a>\n",
    "## Loading data\n",
    "\n",
    "In this section, we load the data required by the queries in pandas DataFrame."
   ]
  },
  {
   "cell_type": "code",
   "execution_count": null,
   "metadata": {
    "execution": {
     "iopub.execute_input": "2022-04-04T23:54:30.313575Z",
     "iopub.status.busy": "2022-04-04T23:54:30.313229Z",
     "iopub.status.idle": "2022-04-04T23:55:00.160599Z",
     "shell.execute_reply": "2022-04-04T23:55:00.160033Z",
     "shell.execute_reply.started": "2022-04-04T23:54:30.313546Z"
    },
    "tags": []
   },
   "outputs": [],
   "source": [
    "%%px\n",
    "@bodo.jit(distributed=[\"rel\"], cache=True)\n",
    "def load_lineitem(data_folder):\n",
    "    t1 = time.time()\n",
    "    file = data_folder + \"/lineitem.tbl\"\n",
    "    cols_names = ['L_ORDERKEY' , 'L_PARTKEY', 'L_SUPPKEY', 'L_LINENUMBER', 'L_QUANTITY',\n",
    "            'L_EXTENDEDPRICE', 'L_DISCOUNT', 'L_TAX', 'L_RETURNFLAG', 'L_LINESTATUS', 'L_SHIPDATE',\n",
    "            'L_COMMITDATE', 'L_RECEIPTDATE', 'L_SHIPINSTRUCT', 'L_SHIPMODE', 'L_COMMENT']\n",
    "    cols = {'L_ORDERKEY' : np.int64, 'L_PARTKEY' : np.int64, 'L_SUPPKEY' : np.int64, 'L_LINENUMBER' : np.int64, 'L_QUANTITY' : np.float64,\n",
    "            'L_EXTENDEDPRICE' : np.float64, 'L_DISCOUNT' : np.float64, 'L_TAX' : np.float64, 'L_RETURNFLAG' : str, 'L_LINESTATUS' : str, 'L_SHIPDATE' : str,\n",
    "            'L_COMMITDATE' : str, 'L_RECEIPTDATE' : str, 'L_SHIPINSTRUCT' : str, 'L_SHIPMODE' : str, 'L_COMMENT' : str}\n",
    "    rel = pd.read_csv(file, sep='|', header=None,\n",
    "        names=cols_names,\n",
    "        dtype=cols,\n",
    "        parse_dates=[10, 11, 12]\n",
    "        )\n",
    "    print(\"Lineitem Reading time: \", ((time.time() - t1) * 1000), \" (ms)\")\n",
    "    return rel\n",
    "\n",
    "lineitem = load_lineitem(\"s3://bodo-examples-data/tpch/s2\")\n",
    "if bodo.get_rank()==0:\n",
    "    display(lineitem.head())"
   ]
  },
  {
   "cell_type": "code",
   "execution_count": null,
   "metadata": {
    "execution": {
     "iopub.execute_input": "2022-04-04T23:55:00.161910Z",
     "iopub.status.busy": "2022-04-04T23:55:00.161643Z",
     "iopub.status.idle": "2022-04-04T23:55:08.008948Z",
     "shell.execute_reply": "2022-04-04T23:55:08.008375Z",
     "shell.execute_reply.started": "2022-04-04T23:55:00.161873Z"
    },
    "scrolled": true,
    "tags": []
   },
   "outputs": [],
   "source": [
    "%%px\n",
    "\n",
    "@bodo.jit(distributed=[\"rel\"], cache=True)\n",
    "def load_orders(data_folder):\n",
    "    t1 = time.time()    \n",
    "    file = data_folder + \"/orders.tbl\"\n",
    "    cols_names = ['O_ORDERKEY', 'O_CUSTKEY', 'O_ORDERSTATUS',\n",
    "            'O_TOTALPRICE', 'O_ORDERDATE', 'O_ORDERPRIORITY',\n",
    "            'O_CLERK', 'O_SHIPPRIORITY', 'O_COMMENT']\n",
    "    cols = {'O_ORDERKEY' : np.int64, 'O_CUSTKEY' : np.int64, 'O_ORDERSTATUS' : str,\n",
    "            'O_TOTALPRICE' : np.float64, 'O_ORDERDATE' : np.int64, 'O_ORDERPRIORITY' : str,\n",
    "            'O_CLERK' : str, 'O_SHIPPRIORITY' : np.int64, 'O_COMMENT' : str}\n",
    "    rel = pd.read_csv(file, sep='|', header=None,\n",
    "        names=cols_names,\n",
    "        dtype=cols,\n",
    "        parse_dates=[4]\n",
    "        )\n",
    "    print(\"Orders Reading time: \", ((time.time() - t1) * 1000), \" (ms)\")\n",
    "    return rel\n",
    "    \n",
    "orders = load_orders(\"s3://bodo-examples-data/tpch/s2\")\n",
    "if bodo.get_rank()==0:\n",
    "    display(orders.head())"
   ]
  },
  {
   "cell_type": "code",
   "execution_count": null,
   "metadata": {
    "execution": {
     "iopub.execute_input": "2022-04-04T23:55:08.009872Z",
     "iopub.status.busy": "2022-04-04T23:55:08.009682Z",
     "iopub.status.idle": "2022-04-04T23:55:11.438365Z",
     "shell.execute_reply": "2022-04-04T23:55:11.437731Z",
     "shell.execute_reply.started": "2022-04-04T23:55:08.009846Z"
    },
    "tags": []
   },
   "outputs": [],
   "source": [
    "%%px\n",
    "\n",
    "@bodo.jit(distributed=[\"rel\"], cache=True)\n",
    "def load_customer(data_folder):\n",
    "    t1 = time.time()\n",
    "    file = data_folder + \"/customer.tbl\"\n",
    "    cols_names = ['C_CUSTKEY', 'C_NAME',\n",
    "            'C_ADDRESS', 'C_NATIONKEY',\n",
    "            'C_PHONE', 'C_ACCTBAL',\n",
    "            'C_MKTSEGMENT', 'C_COMMENT']\n",
    "    cols = {'C_CUSTKEY' : np.int64, 'C_NAME' : str,\n",
    "            'C_ADDRESS' : str, 'C_NATIONKEY' : np.int64,\n",
    "            'C_PHONE' : str, 'C_ACCTBAL' : np.float64,\n",
    "            'C_MKTSEGMENT' : str, 'C_COMMENT' : str}\n",
    "    rel = pd.read_csv(file, sep='|', header=None,\n",
    "        names=cols_names,\n",
    "        dtype=cols\n",
    "        )\n",
    "    print(\"Customer Reading time: \", ((time.time() - t1) * 1000), \" (ms)\")\n",
    "    return rel\n",
    "\n",
    "customer = load_customer(\"s3://bodo-examples-data/tpch/s2\")\n",
    "if bodo.get_rank()==0:\n",
    "    display(customer.head())"
   ]
  },
  {
   "cell_type": "code",
   "execution_count": null,
   "metadata": {
    "execution": {
     "iopub.execute_input": "2022-04-04T23:55:11.439816Z",
     "iopub.status.busy": "2022-04-04T23:55:11.439565Z",
     "iopub.status.idle": "2022-04-04T23:55:13.781355Z",
     "shell.execute_reply": "2022-04-04T23:55:13.780787Z",
     "shell.execute_reply.started": "2022-04-04T23:55:11.439789Z"
    },
    "tags": []
   },
   "outputs": [],
   "source": [
    "%%px\n",
    "\n",
    "@bodo.jit(distributed=[\"rel\"], cache=True)\n",
    "def load_nation(data_folder):\n",
    "    t1 = time.time()\n",
    "    file = data_folder + \"/nation.tbl\"\n",
    "    cols_names = ['N_NATIONKEY', 'N_NAME',\n",
    "            'N_REGIONKEY', 'N_COMMENT']\n",
    "    cols = {'N_NATIONKEY' : np.int64, 'N_NAME' : str,\n",
    "            'N_REGIONKEY' : np.int64, 'N_COMMENT' : str}\n",
    "    rel = pd.read_csv(file, sep='|', header=None,\n",
    "        names=cols_names,\n",
    "        dtype=cols\n",
    "        )\n",
    "    print(\"Nation Reading time: \", ((time.time() - t1) * 1000), \" (ms)\")\n",
    "    return rel\n",
    "\n",
    "nation = load_nation(\"s3://bodo-examples-data/tpch/s2\")\n",
    "if bodo.get_rank()==0:\n",
    "    display(nation.head())"
   ]
  },
  {
   "cell_type": "code",
   "execution_count": null,
   "metadata": {
    "execution": {
     "iopub.execute_input": "2022-04-04T23:55:13.782273Z",
     "iopub.status.busy": "2022-04-04T23:55:13.782089Z",
     "iopub.status.idle": "2022-04-04T23:55:16.307358Z",
     "shell.execute_reply": "2022-04-04T23:55:16.306782Z",
     "shell.execute_reply.started": "2022-04-04T23:55:13.782248Z"
    },
    "tags": []
   },
   "outputs": [],
   "source": [
    "%%px\n",
    "\n",
    "@bodo.jit(distributed=[\"rel\"], cache=True)\n",
    "def load_supplier(data_folder):\n",
    "    t1 = time.time()    \n",
    "    file = data_folder + \"/supplier.tbl\"\n",
    "    cols_names = ['S_SUPPKEY', 'S_NAME', 'S_ADDRESS',\n",
    "            'S_NATIONKEY', 'S_PHONE', 'S_ACCTBAL',\n",
    "            'S_COMMENT']\n",
    "    cols = {'S_SUPPKEY' : np.int64, 'S_NAME' : str, 'S_ADDRESS' : str,\n",
    "            'S_NATIONKEY' : np.int64, 'S_PHONE' : str, 'S_ACCTBAL' : np.float64,\n",
    "            'S_COMMENT' : str}\n",
    "    rel = pd.read_csv(file, sep='|', header=None,\n",
    "        names=cols_names,\n",
    "        dtype=cols\n",
    "        )\n",
    "    print(\"Supplier Reading time: \", ((time.time() - t1) * 1000), \" (ms)\")     \n",
    "    return rel\n",
    "\n",
    "supplier = load_supplier(\"s3://bodo-examples-data/tpch/s2\")\n",
    "if bodo.get_rank()==0:\n",
    "    display(supplier.head())"
   ]
  },
  {
   "cell_type": "code",
   "execution_count": null,
   "metadata": {
    "execution": {
     "iopub.execute_input": "2022-04-04T23:55:16.308702Z",
     "iopub.status.busy": "2022-04-04T23:55:16.308135Z",
     "iopub.status.idle": "2022-04-04T23:55:21.736663Z",
     "shell.execute_reply": "2022-04-04T23:55:21.736102Z",
     "shell.execute_reply.started": "2022-04-04T23:55:16.308666Z"
    },
    "tags": []
   },
   "outputs": [],
   "source": [
    "%%px\n",
    "\n",
    "@bodo.jit(distributed=[\"rel\"], cache=True)\n",
    "def load_partsupp(data_folder):\n",
    "    t1 = time.time()\n",
    "    file = data_folder + \"/partsupp.tbl\"\n",
    "    cols_names = ['PS_PARTKEY', 'PS_SUPPKEY', 'PS_AVAILQTY',\n",
    "            'PS_SUPPLYCOST', 'PS_COMMENT']\n",
    "    cols = {'PS_PARTKEY' : np.int64, 'PS_SUPPKEY' : np.int64, 'PS_AVAILQTY' : np.int64,\n",
    "            'PS_SUPPLYCOST' : np.float64, 'PS_COMMENT' : str}\n",
    "    rel = pd.read_csv(file, sep='|', header=None,\n",
    "        names=cols_names,\n",
    "        dtype=cols\n",
    "        )\n",
    "    print(\"Partsupp Reading time: \", ((time.time() - t1) * 1000), \" (ms)\")\n",
    "    return rel\n",
    "\n",
    "partsupp = load_partsupp(\"s3://bodo-examples-data/tpch/s2\")\n",
    "if bodo.get_rank()==0:\n",
    "    display(partsupp.head())"
   ]
  },
  {
   "cell_type": "code",
   "execution_count": null,
   "metadata": {
    "execution": {
     "iopub.execute_input": "2022-04-04T23:55:21.737712Z",
     "iopub.status.busy": "2022-04-04T23:55:21.737456Z",
     "iopub.status.idle": "2022-04-04T23:55:25.239911Z",
     "shell.execute_reply": "2022-04-04T23:55:25.239345Z",
     "shell.execute_reply.started": "2022-04-04T23:55:21.737685Z"
    },
    "tags": []
   },
   "outputs": [],
   "source": [
    "%%px\n",
    "\n",
    "@bodo.jit(distributed=[\"rel\"], cache=True)\n",
    "def load_part(data_folder):\n",
    "    t1 = time.time()\n",
    "    file = data_folder + \"/part.tbl\"\n",
    "    cols_names = ['P_PARTKEY', 'P_NAME', 'P_MFGR', 'P_BRAND',\n",
    "            'P_TYPE', 'P_SIZE', 'P_CONTAINER',\n",
    "            'P_RETAILPRICE', 'P_COMMENT']\n",
    "    cols = {'P_PARTKEY' : np.int64, 'P_NAME' : str, 'P_MFGR' : str, 'P_BRAND' : str,\n",
    "            'P_TYPE' : str, 'P_SIZE' : np.int64, 'P_CONTAINER' : str,\n",
    "            'P_RETAILPRICE' : np.float64, 'P_COMMENT' : str}\n",
    "    rel = pd.read_csv(file, sep='|', header=None,\n",
    "        names=cols_names,\n",
    "        dtype=cols\n",
    "        )\n",
    "    print(\"Part Reading time: \", ((time.time() - t1) * 1000), \" (ms)\")\n",
    "    return rel\n",
    "\n",
    "part = load_part(\"s3://bodo-examples-data/tpch/s2\")\n",
    "if bodo.get_rank()==0:\n",
    "    display(part.head())"
   ]
  },
  {
   "cell_type": "markdown",
   "metadata": {},
   "source": [
    "## Query Definitions\n",
    "\n",
    "This section includes some of the queries using Python (Pandas)"
   ]
  },
  {
   "cell_type": "markdown",
   "metadata": {},
   "source": [
    "### Q1: Pricing Summary Report Query\n",
    "This query reports the amount of businesses that were billed, shipped, and returned.\n",
    "\n",
    "Make sure you have run **`load_lineitem`** from [loading data section](#loading_data) before running this query."
   ]
  },
  {
   "cell_type": "code",
   "execution_count": null,
   "metadata": {
    "execution": {
     "iopub.execute_input": "2022-04-04T23:55:34.467415Z",
     "iopub.status.busy": "2022-04-04T23:55:34.467068Z",
     "iopub.status.idle": "2022-04-04T23:55:46.548390Z",
     "shell.execute_reply": "2022-04-04T23:55:46.547788Z",
     "shell.execute_reply.started": "2022-04-04T23:55:34.467378Z"
    },
    "tags": []
   },
   "outputs": [],
   "source": [
    "%%px\n",
    "@bodo.jit(cache=True)\n",
    "def q1(lineitem):\n",
    "    t1 = time.time()\n",
    "    sel = lineitem.L_SHIPDATE <= \"1998-09-02\"\n",
    "    flineitem = lineitem[sel]\n",
    "    flineitem[\"DISC_PRICE\"] = flineitem.L_EXTENDEDPRICE * (1 - flineitem.L_DISCOUNT)\n",
    "    flineitem[\"CHARGE\"] = (\n",
    "        flineitem.L_EXTENDEDPRICE * (1 - flineitem.L_DISCOUNT) * (1 + flineitem.L_TAX)\n",
    "    )\n",
    "    gb = flineitem.groupby([\"L_RETURNFLAG\", \"L_LINESTATUS\"], as_index=False)\n",
    "    total = gb.agg({\"L_QUANTITY\": [\"sum\", \"mean\"], \"L_EXTENDEDPRICE\": [\"sum\", \"mean\"],\n",
    "                   \"DISC_PRICE\": \"sum\", \"CHARGE\": \"sum\",\n",
    "                   \"L_DISCOUNT\": \"mean\", \"L_ORDERKEY\": \"count\"})\n",
    "    total = total.sort_values([\"L_RETURNFLAG\", \"L_LINESTATUS\"])\n",
    "    print(\"Execution time: \", ((time.time() - t1) * 1000), \" (ms)\")\n",
    "    return total.head(10)\n",
    "\n",
    "q1_result = q1(lineitem)\n",
    "if bodo.get_rank()==0:\n",
    "    display(q1_result)"
   ]
  },
  {
   "cell_type": "markdown",
   "metadata": {},
   "source": [
    "### Q3: Shipping Priority Query\n",
    "This query retrieves the 10 unshipped orders with the highest value.\n",
    "\n",
    "Make sure you have run **`load_lineitem`, `load_orders`, and `load_customer`** from [loading data section](#loading_data) before running this query."
   ]
  },
  {
   "cell_type": "code",
   "execution_count": null,
   "metadata": {
    "execution": {
     "iopub.execute_input": "2022-04-04T23:55:46.549671Z",
     "iopub.status.busy": "2022-04-04T23:55:46.549418Z",
     "iopub.status.idle": "2022-04-04T23:55:56.122119Z",
     "shell.execute_reply": "2022-04-04T23:55:56.121522Z",
     "shell.execute_reply.started": "2022-04-04T23:55:46.549643Z"
    },
    "tags": []
   },
   "outputs": [],
   "source": [
    "%%px\n",
    "\n",
    "@bodo.jit(cache=True)\n",
    "def q3(lineitem, orders, customer):\n",
    "    date = \"1995-03-04\"    \n",
    "    t1 = time.time()\n",
    "    lsel = lineitem.L_SHIPDATE > date\n",
    "    osel = orders.O_ORDERDATE < date\n",
    "    csel = customer.C_MKTSEGMENT == \"HOUSEHOLD\"\n",
    "    flineitem = lineitem[lsel]\n",
    "    forders = orders[osel]\n",
    "    fcustomer = customer[csel]\n",
    "    jn1 = fcustomer.merge(forders, left_on=\"C_CUSTKEY\", right_on=\"O_CUSTKEY\")\n",
    "    jn2 = jn1.merge(flineitem, left_on=\"O_ORDERKEY\", right_on=\"L_ORDERKEY\")\n",
    "\n",
    "    jn2[\"TMP\"] = jn2.L_EXTENDEDPRICE * (1 - jn2.L_DISCOUNT)\n",
    "\n",
    "    total = (\n",
    "        jn2.groupby(\n",
    "            [\"L_ORDERKEY\", \"O_ORDERDATE\", \"O_SHIPPRIORITY\"], as_index=False\n",
    "        )[\"TMP\"]\n",
    "        .sum()\n",
    "        .sort_values([\"TMP\"], ascending=False)\n",
    "    )\n",
    "    res = total[[\"L_ORDERKEY\", \"TMP\", \"O_ORDERDATE\", \"O_SHIPPRIORITY\"]]\n",
    "\n",
    "    print(\"Execution time: \", ((time.time() - t1) * 1000), \" (ms)\")\n",
    "    return res.head(10)\n",
    "\n",
    "q3_result = q3(lineitem, orders, customer)\n",
    "if bodo.get_rank()==0:\n",
    "    display(q3_result)"
   ]
  },
  {
   "cell_type": "markdown",
   "metadata": {},
   "source": [
    "### Q4: Order Priority Checking Query\n",
    "This query determines how well the order priority system is working and gives an assessment of customer satisfaction.\n",
    "\n",
    "Make sure you have run **`load_lineitem` and `load_orders`** from [loading data section](#loading_data) before running this query."
   ]
  },
  {
   "cell_type": "code",
   "execution_count": null,
   "metadata": {
    "execution": {
     "iopub.execute_input": "2022-04-04T23:55:56.123029Z",
     "iopub.status.busy": "2022-04-04T23:55:56.122804Z",
     "iopub.status.idle": "2022-04-04T23:56:03.465465Z",
     "shell.execute_reply": "2022-04-04T23:56:03.464878Z",
     "shell.execute_reply.started": "2022-04-04T23:55:56.123004Z"
    },
    "tags": []
   },
   "outputs": [],
   "source": [
    "%%px\n",
    "@bodo.jit(cache=True)\n",
    "def q4(lineitem, orders):\n",
    "    date1 = \"1993-11-01\"\n",
    "    date2 = \"1993-08-01\"\n",
    "    t1 = time.time()\n",
    "    lsel = lineitem.L_COMMITDATE < lineitem.L_RECEIPTDATE\n",
    "    osel = (orders.O_ORDERDATE < date1) & (orders.O_ORDERDATE >= date2)\n",
    "    flineitem = lineitem[lsel]\n",
    "    forders = orders[osel]\n",
    "    jn = forders[forders[\"O_ORDERKEY\"].isin(flineitem[\"L_ORDERKEY\"])]\n",
    "    total = (\n",
    "        jn.groupby(\"O_ORDERPRIORITY\", as_index=False)[\"O_ORDERKEY\"]\n",
    "        .count()\n",
    "        .sort_values([\"O_ORDERPRIORITY\"])\n",
    "    )\n",
    "    print(\"Execution time: \", ((time.time() - t1) * 1000), \" (ms)\")\n",
    "    return total.head(10)\n",
    "\n",
    "q4_result = q4(lineitem, orders)\n",
    "if bodo.get_rank()==0:\n",
    "    display(q4_result)"
   ]
  },
  {
   "cell_type": "markdown",
   "metadata": {},
   "source": [
    "### Q6: Forecasting Revenue Change Query\n",
    "This query quantifies the amount of revenue increase that would have resulted from eliminating certain company-wide discounts in a given percentage range in a given year.\n",
    "\n",
    "Make sure you have run **`load_lineitem`** from [loading data section](#loading_data) before running this query."
   ]
  },
  {
   "cell_type": "code",
   "execution_count": null,
   "metadata": {
    "execution": {
     "iopub.execute_input": "2022-04-04T23:56:03.467001Z",
     "iopub.status.busy": "2022-04-04T23:56:03.466750Z",
     "iopub.status.idle": "2022-04-04T23:56:10.209465Z",
     "shell.execute_reply": "2022-04-04T23:56:10.208807Z",
     "shell.execute_reply.started": "2022-04-04T23:56:03.466974Z"
    },
    "tags": []
   },
   "outputs": [],
   "source": [
    "%%px\n",
    "@bodo.jit(cache=True)\n",
    "def q6(lineitem):\n",
    "    date1 = \"1996-01-01\"\n",
    "    date2 = \"1997-01-01\"\n",
    "    t1 = time.time()\n",
    "    sel = (\n",
    "        (lineitem.L_SHIPDATE >= date1)\n",
    "        & (lineitem.L_SHIPDATE < date2)\n",
    "        & (lineitem.L_DISCOUNT >= 0.08)\n",
    "        & (lineitem.L_DISCOUNT <= 0.1)\n",
    "        & (lineitem.L_QUANTITY < 24)\n",
    "    )\n",
    "    flineitem = lineitem[sel]\n",
    "    total = (flineitem.L_EXTENDEDPRICE * flineitem.L_DISCOUNT).sum()\n",
    "    print(\"Execution time: \", ((time.time() - t1) * 1000), \" (ms)\")\n",
    "    print(total)\n",
    "    return total\n",
    "\n",
    "q6_result = q6(lineitem)"
   ]
  },
  {
   "cell_type": "markdown",
   "metadata": {},
   "source": [
    "### Q9: Product Type Profit Measure Query\n",
    "This query determines how much profit is made on a given line of parts, broken out by supplier nation and year.\n",
    "\n",
    "Make sure you have run **`load_lineitem`, `load_orders`, `load_part`, `load_nation`, `load_partsupp`, and `load_supplier`** from [loading data section](#loading_data) before running this query."
   ]
  },
  {
   "cell_type": "code",
   "execution_count": null,
   "metadata": {
    "execution": {
     "iopub.execute_input": "2022-04-04T23:56:10.210187Z",
     "iopub.status.busy": "2022-04-04T23:56:10.210012Z",
     "iopub.status.idle": "2022-04-04T23:56:24.081506Z",
     "shell.execute_reply": "2022-04-04T23:56:24.080916Z",
     "shell.execute_reply.started": "2022-04-04T23:56:10.210163Z"
    },
    "tags": []
   },
   "outputs": [],
   "source": [
    "%%px\n",
    "@bodo.jit(cache=True)\n",
    "def q9(lineitem, orders, part, nation, partsupp, supplier):\n",
    "    t1 = time.time()\n",
    "    psel = part.P_NAME.str.contains(\"ghost\")\n",
    "    fpart = part[psel]\n",
    "    jn1 = lineitem.merge(fpart, left_on=\"L_PARTKEY\", right_on=\"P_PARTKEY\")\n",
    "    jn2 = jn1.merge(supplier, left_on=\"L_SUPPKEY\", right_on=\"S_SUPPKEY\")\n",
    "    jn3 = jn2.merge(nation, left_on=\"S_NATIONKEY\", right_on=\"N_NATIONKEY\")\n",
    "    jn4 = partsupp.merge(\n",
    "        jn3, left_on=[\"PS_PARTKEY\", \"PS_SUPPKEY\"], right_on=[\"L_PARTKEY\", \"L_SUPPKEY\"]\n",
    "    )\n",
    "    jn5 = jn4.merge(orders, left_on=\"L_ORDERKEY\", right_on=\"O_ORDERKEY\")\n",
    "    jn5[\"TMP\"] = jn5.L_EXTENDEDPRICE * (1 - jn5.L_DISCOUNT) - (\n",
    "        (1 * jn5.PS_SUPPLYCOST) * jn5.L_QUANTITY\n",
    "    )\n",
    "    jn5[\"O_YEAR\"] = jn5.O_ORDERDATE.dt.year\n",
    "    gb = jn5.groupby([\"N_NAME\", \"O_YEAR\"], as_index=False)[\"TMP\"].sum()\n",
    "    total = gb.sort_values([\"N_NAME\", \"O_YEAR\"], ascending=[True, False])\n",
    "    print(\"Execution time: \", ((time.time() - t1) * 1000), \" (ms)\")\n",
    "    return total.head(10)\n",
    "\n",
    "q9_result = q9(lineitem, orders, part, nation, partsupp, supplier)\n",
    "if bodo.get_rank()==0:\n",
    "    display(q9_result)"
   ]
  },
  {
   "cell_type": "markdown",
   "metadata": {},
   "source": [
    "### Q10: Returned Item Reporting Query\n",
    "This query identifies customers who might be having problems with the parts that are shipped to them.\n",
    "\n",
    "Make sure you have run **`load_lineitem`, `load_orders`, `load_customer`, and `load_nation`** from [loading data section](#loading_data) before running this query."
   ]
  },
  {
   "cell_type": "code",
   "execution_count": null,
   "metadata": {
    "execution": {
     "iopub.execute_input": "2022-04-04T23:56:24.082472Z",
     "iopub.status.busy": "2022-04-04T23:56:24.082227Z",
     "iopub.status.idle": "2022-04-04T23:56:35.397420Z",
     "shell.execute_reply": "2022-04-04T23:56:35.396741Z",
     "shell.execute_reply.started": "2022-04-04T23:56:24.082446Z"
    },
    "tags": []
   },
   "outputs": [],
   "source": [
    "%%px\n",
    "@bodo.jit(cache=True)\n",
    "def q10(lineitem, orders, customer, nation):\n",
    "    date1 = \"1994-11-01\"\n",
    "    date2 = \"1995-02-01\"\n",
    "    t1 = time.time()\n",
    "    osel = (orders.O_ORDERDATE >= date1) & (orders.O_ORDERDATE < date2)\n",
    "    lsel = lineitem.L_RETURNFLAG == \"R\"\n",
    "    forders = orders[osel]\n",
    "    flineitem = lineitem[lsel]\n",
    "    jn1 = flineitem.merge(forders, left_on=\"L_ORDERKEY\", right_on=\"O_ORDERKEY\")\n",
    "    jn2 = jn1.merge(customer, left_on=\"O_CUSTKEY\", right_on=\"C_CUSTKEY\")\n",
    "    jn3 = jn2.merge(nation, left_on=\"C_NATIONKEY\", right_on=\"N_NATIONKEY\")\n",
    "    jn3[\"TMP\"] = jn3.L_EXTENDEDPRICE * (1.0 - jn3.L_DISCOUNT)\n",
    "    gb = jn3.groupby(\n",
    "        [\n",
    "            \"C_CUSTKEY\",\n",
    "            \"C_NAME\",\n",
    "            \"C_ACCTBAL\",\n",
    "            \"C_PHONE\",\n",
    "            \"N_NAME\",\n",
    "            \"C_ADDRESS\",\n",
    "            \"C_COMMENT\",\n",
    "        ],\n",
    "        as_index=False,\n",
    "    )[\"TMP\"].sum()\n",
    "    total = gb.sort_values(\"TMP\", ascending=False)\n",
    "    print(\"Execution time: \", ((time.time() - t1) * 1000), \" (ms)\")\n",
    "    return total.head(10)\n",
    "\n",
    "q10_result = q10(lineitem, orders, customer, nation)\n",
    "if bodo.get_rank()==0:\n",
    "    display(q10_result)"
   ]
  },
  {
   "cell_type": "markdown",
   "metadata": {},
   "source": [
    "### Q12: Shipping Modes and Order Priority Query\n",
    "This query determines whether selecting less expensive modes of shipping is negatively affecting the critical-priority orders by causing more parts to be received by customers after the committed date.\n",
    "\n",
    "Make sure you have run **`load_lineitem` and `load_orders`** from [loading data section](#loading_data) before running this query."
   ]
  },
  {
   "cell_type": "code",
   "execution_count": null,
   "metadata": {
    "execution": {
     "iopub.execute_input": "2022-04-04T23:56:35.398387Z",
     "iopub.status.busy": "2022-04-04T23:56:35.398143Z",
     "iopub.status.idle": "2022-04-04T23:56:52.486224Z",
     "shell.execute_reply": "2022-04-04T23:56:52.485665Z",
     "shell.execute_reply.started": "2022-04-04T23:56:35.398361Z"
    },
    "tags": []
   },
   "outputs": [],
   "source": [
    "%%px\n",
    "@bodo.jit(cache=True)\n",
    "def q12(lineitem, orders):\n",
    "    date1 = \"1994-01-01\"\n",
    "    date2 = \"1995-01-01\"\n",
    "    t1 = time.time()\n",
    "    sel = (\n",
    "        (lineitem.L_RECEIPTDATE < date2)\n",
    "        & (lineitem.L_COMMITDATE < date2)\n",
    "        & (lineitem.L_SHIPDATE < date2)\n",
    "        & (lineitem.L_SHIPDATE < lineitem.L_COMMITDATE)\n",
    "        & (lineitem.L_COMMITDATE < lineitem.L_RECEIPTDATE)\n",
    "        & (lineitem.L_RECEIPTDATE >= date1)\n",
    "        & ((lineitem.L_SHIPMODE == \"MAIL\") | (lineitem.L_SHIPMODE == \"SHIP\"))\n",
    "    )\n",
    "    flineitem = lineitem[sel]\n",
    "    jn = flineitem.merge(orders, left_on=\"L_ORDERKEY\", right_on=\"O_ORDERKEY\")\n",
    "\n",
    "    def g1(x):\n",
    "        return ((x == \"1-URGENT\") | (x == \"2-HIGH\")).sum()\n",
    "\n",
    "    def g2(x):\n",
    "        return ((x != \"1-URGENT\") & (x != \"2-HIGH\")).sum()\n",
    "\n",
    "    total = jn.groupby(\"L_SHIPMODE\", as_index=False)[\"O_ORDERPRIORITY\"].agg((g1, g2))\n",
    "    total = total.sort_values(\"L_SHIPMODE\")\n",
    "    print(\"Execution time: \", ((time.time() - t1) * 1000), \" (ms)\")\n",
    "    return total.head(10)\n",
    "\n",
    "q12_result = q12(lineitem, orders)\n",
    "if bodo.get_rank()==0:\n",
    "    display(q12_result)"
   ]
  },
  {
   "cell_type": "markdown",
   "metadata": {},
   "source": [
    "### Q14: Promotion Effect Query\n",
    "This query monitors the market response to a promotion such as TV advertisements or a special campaign.\n",
    "\n",
    "Make sure you have run **`load_lineitem`** and **`load_part`** from [loading data section](#loading_data) before running this query."
   ]
  },
  {
   "cell_type": "code",
   "execution_count": null,
   "metadata": {
    "execution": {
     "iopub.execute_input": "2022-04-04T23:56:52.487198Z",
     "iopub.status.busy": "2022-04-04T23:56:52.486963Z",
     "iopub.status.idle": "2022-04-04T23:57:00.207285Z",
     "shell.execute_reply": "2022-04-04T23:57:00.206699Z",
     "shell.execute_reply.started": "2022-04-04T23:56:52.487172Z"
    },
    "tags": []
   },
   "outputs": [],
   "source": [
    "%%px\n",
    "@bodo.jit(cache=True)\n",
    "def q14(lineitem, part):\n",
    "    startDate = \"1994-03-01\"\n",
    "    endDate = \"1994-04-01\"\n",
    "    p_type_like = \"PROMO\"\n",
    "    t1 = time.time()\n",
    "    sel = (lineitem.L_SHIPDATE >= startDate) & (lineitem.L_SHIPDATE < endDate)\n",
    "    flineitem = lineitem[sel]\n",
    "    jn = flineitem.merge(part, left_on=\"L_PARTKEY\", right_on=\"P_PARTKEY\")\n",
    "    jn[\"TMP\"] = jn.L_EXTENDEDPRICE * (1.0 - jn.L_DISCOUNT)\n",
    "    total = jn[jn.P_TYPE.str.startswith(p_type_like)].TMP.sum() * 100 / jn.TMP.sum()\n",
    "    print(\"Execution time: \", ((time.time() - t1) * 1000), \" (ms)\")\n",
    "    print(total)\n",
    "    return total\n",
    "\n",
    "q14_result = q14(lineitem, part)"
   ]
  },
  {
   "cell_type": "markdown",
   "metadata": {},
   "source": [
    "### Q18: Large Volume Customer Query\n",
    "This query ranks customers based on their having placed a large quantity order. Large quantity orders are defined as those orders whose total quantity is above a certain level.\n",
    "\n",
    "Make sure you have run **`load_lineitem`, `load_orders`, and `load_customer`** from [loading data section](#loading_data) before running this query."
   ]
  },
  {
   "cell_type": "code",
   "execution_count": null,
   "metadata": {
    "execution": {
     "iopub.execute_input": "2022-04-04T23:57:00.208252Z",
     "iopub.status.busy": "2022-04-04T23:57:00.208002Z",
     "iopub.status.idle": "2022-04-04T23:57:05.325962Z",
     "shell.execute_reply": "2022-04-04T23:57:05.325399Z",
     "shell.execute_reply.started": "2022-04-04T23:57:00.208226Z"
    },
    "tags": []
   },
   "outputs": [],
   "source": [
    "%%px\n",
    "@bodo.jit(cache=True)\n",
    "def q18(lineitem, orders, customer):\n",
    "    t1 = time.time()\n",
    "    gb1 = lineitem.groupby(\"L_ORDERKEY\", as_index=False)[\"L_QUANTITY\"].sum()\n",
    "    fgb1 = gb1[gb1.L_QUANTITY > 300]\n",
    "    jn1 = fgb1.merge(orders, left_on=\"L_ORDERKEY\", right_on=\"O_ORDERKEY\")\n",
    "    jn2 = jn1.merge(customer, left_on=\"O_CUSTKEY\", right_on=\"C_CUSTKEY\")\n",
    "    gb2 = jn2.groupby(\n",
    "        [\"C_NAME\", \"C_CUSTKEY\", \"O_ORDERKEY\", \"O_ORDERDATE\", \"O_TOTALPRICE\"],\n",
    "        as_index=False,\n",
    "    )[\"L_QUANTITY\"].sum()\n",
    "    total = gb2.sort_values([\"O_TOTALPRICE\", \"O_ORDERDATE\"], ascending=[False, True])\n",
    "    print(\"Execution time: \", ((time.time() - t1) * 1000), \" (ms)\")\n",
    "    return total.head(10)\n",
    "\n",
    "q18_result = q18(lineitem, orders, customer)\n",
    "if bodo.get_rank()==0:\n",
    "    display(q18_result)"
   ]
  },
  {
   "cell_type": "markdown",
   "metadata": {},
   "source": [
    "### Q19: Discounted Revenue Query\n",
    "This query reports the gross discounted revenue attributed to the sale of selected parts handled in a particular manner.\n",
    "\n",
    "Make sure you have run **`load_lineitem`** and **`load_part`** from [loading data section](#loading_data) before running this query."
   ]
  },
  {
   "cell_type": "code",
   "execution_count": null,
   "metadata": {
    "execution": {
     "iopub.execute_input": "2022-04-04T23:57:05.327792Z",
     "iopub.status.busy": "2022-04-04T23:57:05.327522Z",
     "iopub.status.idle": "2022-04-04T23:59:16.112792Z",
     "shell.execute_reply": "2022-04-04T23:59:16.112212Z",
     "shell.execute_reply.started": "2022-04-04T23:57:05.327766Z"
    },
    "tags": []
   },
   "outputs": [],
   "source": [
    "%%px\n",
    "@bodo.jit(cache=True)\n",
    "def q19(lineitem, part):\n",
    "    Brand31 = \"Brand#31\"\n",
    "    Brand43 = \"Brand#43\"\n",
    "    SMBOX = \"SM BOX\"\n",
    "    SMCASE = \"SM CASE\"\n",
    "    SMPACK = \"SM PACK\"\n",
    "    SMPKG = \"SM PKG\"\n",
    "    MEDBAG = \"MED BAG\"\n",
    "    MEDBOX = \"MED BOX\"\n",
    "    MEDPACK = \"MED PACK\"\n",
    "    MEDPKG = \"MED PKG\"\n",
    "    LGBOX = \"LG BOX\"\n",
    "    LGCASE = \"LG CASE\"\n",
    "    LGPACK = \"LG PACK\"\n",
    "    LGPKG = \"LG PKG\"\n",
    "    DELIVERINPERSON = \"DELIVER IN PERSON\"\n",
    "    AIR = \"AIR\"\n",
    "    AIRREG = \"AIRREG\"\n",
    "    t1 = time.time()\n",
    "    lsel = (\n",
    "        (\n",
    "            ((lineitem.L_QUANTITY <= 36) & (lineitem.L_QUANTITY >= 26))\n",
    "            | ((lineitem.L_QUANTITY <= 25) & (lineitem.L_QUANTITY >= 15))\n",
    "            | ((lineitem.L_QUANTITY <= 14) & (lineitem.L_QUANTITY >= 4))\n",
    "        )\n",
    "        & (lineitem.L_SHIPINSTRUCT == DELIVERINPERSON)\n",
    "        & ((lineitem.L_SHIPMODE == AIR) | (lineitem.L_SHIPMODE == AIRREG))\n",
    "    )\n",
    "    psel = (part.P_SIZE >= 1) & (\n",
    "        (\n",
    "            (part.P_SIZE <= 5)\n",
    "            & (part.P_BRAND == Brand31)\n",
    "            & (\n",
    "                (part.P_CONTAINER == SMBOX)\n",
    "                | (part.P_CONTAINER == SMCASE)\n",
    "                | (part.P_CONTAINER == SMPACK)\n",
    "                | (part.P_CONTAINER == SMPKG)\n",
    "            )\n",
    "        )\n",
    "        | (\n",
    "            (part.P_SIZE <= 10)\n",
    "            & (part.P_BRAND == Brand43)\n",
    "            & (\n",
    "                (part.P_CONTAINER == MEDBAG)\n",
    "                | (part.P_CONTAINER == MEDBOX)\n",
    "                | (part.P_CONTAINER == MEDPACK)\n",
    "                | (part.P_CONTAINER == MEDPKG)\n",
    "            )\n",
    "        )\n",
    "        | (\n",
    "            (part.P_SIZE <= 15)\n",
    "            & (part.P_BRAND == Brand43)\n",
    "            & (\n",
    "                (part.P_CONTAINER == LGBOX)\n",
    "                | (part.P_CONTAINER == LGCASE)\n",
    "                | (part.P_CONTAINER == LGPACK)\n",
    "                | (part.P_CONTAINER == LGPKG)\n",
    "            )\n",
    "        )\n",
    "    )\n",
    "    flineitem = lineitem[lsel]\n",
    "    fpart = part[psel]\n",
    "    jn = flineitem.merge(fpart, left_on=\"L_PARTKEY\", right_on=\"P_PARTKEY\")\n",
    "    jnsel = (\n",
    "        (jn.P_BRAND == Brand31)\n",
    "        & (\n",
    "            (jn.P_CONTAINER == SMBOX)\n",
    "            | (jn.P_CONTAINER == SMCASE)\n",
    "            | (jn.P_CONTAINER == SMPACK)\n",
    "            | (jn.P_CONTAINER == SMPKG)\n",
    "        )\n",
    "        & (jn.L_QUANTITY >= 4)\n",
    "        & (jn.L_QUANTITY <= 14)\n",
    "        & (jn.P_SIZE <= 5)\n",
    "        | (jn.P_BRAND == Brand43)\n",
    "        & (\n",
    "            (jn.P_CONTAINER == MEDBAG)\n",
    "            | (jn.P_CONTAINER == MEDBOX)\n",
    "            | (jn.P_CONTAINER == MEDPACK)\n",
    "            | (jn.P_CONTAINER == MEDPKG)\n",
    "        )\n",
    "        & (jn.L_QUANTITY >= 15)\n",
    "        & (jn.L_QUANTITY <= 25)\n",
    "        & (jn.P_SIZE <= 10)\n",
    "        | (jn.P_BRAND == Brand43)\n",
    "        & (\n",
    "            (jn.P_CONTAINER == LGBOX)\n",
    "            | (jn.P_CONTAINER == LGCASE)\n",
    "            | (jn.P_CONTAINER == LGPACK)\n",
    "            | (jn.P_CONTAINER == LGPKG)\n",
    "        )\n",
    "        & (jn.L_QUANTITY >= 26)\n",
    "        & (jn.L_QUANTITY <= 36)\n",
    "        & (jn.P_SIZE <= 15)\n",
    "    )\n",
    "    jn = jn[jnsel]\n",
    "    total = (jn.L_EXTENDEDPRICE * (1.0 - jn.L_DISCOUNT)).sum()\n",
    "    print(\"Execution time: \", ((time.time() - t1) * 1000), \" (ms)\")\n",
    "    print(total)\n",
    "    return total\n",
    "\n",
    "q19_result = q19(lineitem, part)"
   ]
  },
  {
   "cell_type": "markdown",
   "metadata": {},
   "source": [
    "### Q20: Potential Part Promotion Query\n",
    "This query identifies suppliers in a particular nation having selected parts that may be candidates for a promotional offer.\n",
    "\n",
    "Make sure you have run **`load_lineitem`, `load_part`, `load_nation`, `load_partsupp`, and `load_supplier`** from [loading data section](#loading_data) before running this query."
   ]
  },
  {
   "cell_type": "code",
   "execution_count": null,
   "metadata": {
    "execution": {
     "iopub.execute_input": "2022-04-04T23:59:16.113757Z",
     "iopub.status.busy": "2022-04-04T23:59:16.113509Z"
    },
    "tags": []
   },
   "outputs": [],
   "source": [
    "%%px\n",
    "@bodo.jit(cache=True)\n",
    "def q20(lineitem, part, nation, partsupp, supplier):\n",
    "    date1 = \"1996-01-01\"\n",
    "    date2 = \"1997-01-01\"\n",
    "    t1 = time.time()\n",
    "    psel = part.P_NAME.str.startswith(\"azure\")\n",
    "    nsel = nation.N_NAME == \"JORDAN\"\n",
    "    lsel = (lineitem.L_SHIPDATE >= date1) & (lineitem.L_SHIPDATE < date2)\n",
    "    fpart = part[psel]\n",
    "    fnation = nation[nsel]\n",
    "    flineitem = lineitem[lsel]\n",
    "    jn1 = fpart.merge(partsupp, left_on=\"P_PARTKEY\", right_on=\"PS_PARTKEY\")\n",
    "    jn2 = jn1.merge(\n",
    "        flineitem,\n",
    "        left_on=[\"PS_PARTKEY\", \"PS_SUPPKEY\"],\n",
    "        right_on=[\"L_PARTKEY\", \"L_SUPPKEY\"],\n",
    "    )\n",
    "    gb = jn2.groupby([\"PS_PARTKEY\", \"PS_SUPPKEY\", \"PS_AVAILQTY\"], as_index=False)[\n",
    "        \"L_QUANTITY\"\n",
    "    ].sum()\n",
    "    gbsel = gb.PS_AVAILQTY > (0.5 * gb.L_QUANTITY)\n",
    "    fgb = gb[gbsel]\n",
    "    jn3 = fgb.merge(supplier, left_on=\"PS_SUPPKEY\", right_on=\"S_SUPPKEY\")\n",
    "    jn4 = fnation.merge(jn3, left_on=\"N_NATIONKEY\", right_on=\"S_NATIONKEY\")\n",
    "    jn4 = jn4[[\"S_NAME\", \"S_ADDRESS\"]]\n",
    "    total = jn4.sort_values(\"S_NAME\").drop_duplicates()\n",
    "    print(\"Execution time: \", ((time.time() - t1) * 1000), \" (ms)\")\n",
    "    return total.head(10)\n",
    "\n",
    "q20_result = q20(lineitem, part, nation, partsupp, supplier)\n",
    "if bodo.get_rank()==0:\n",
    "    display(q20_result)"
   ]
  },
  {
   "cell_type": "code",
   "execution_count": null,
   "metadata": {},
   "outputs": [],
   "source": []
  }
 ],
 "metadata": {
  "interpreter": {
   "hash": "84d1d8d97458420fee614d334608cc9a296a01a4b7a7f960fcfd0f0633eb59fd"
  },
  "kernelspec": {
   "display_name": "SSH 10.30.3.4 Remote-Kernel",
   "language": "python",
   "name": "python3"
  },
  "language_info": {
   "codemirror_mode": {
    "name": "ipython",
    "version": 3
   },
   "file_extension": ".py",
   "mimetype": "text/x-python",
   "name": "python",
   "nbconvert_exporter": "python",
   "pygments_lexer": "ipython3",
   "version": "3.9.10"
  }
 },
 "nbformat": 4,
 "nbformat_minor": 4
}
