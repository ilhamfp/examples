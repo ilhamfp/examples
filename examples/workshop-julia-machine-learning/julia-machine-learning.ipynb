{
 "cells": [
  {
   "cell_type": "markdown",
   "id": "0a4d472c",
   "metadata": {},
   "source": [
    "# Introduction to Julia: Machine Learning Example\n",
    "\n",
    "This code is an example of how to train a machine learning model in Julia. It is based on the PyTorch tutorial: [Training a Classifier](https://pytorch.org/tutorials/beginner/blitz/cifar10_tutorial.html#sphx-glr-beginner-blitz-cifar10-tutorial-py). Most of what you see in Julia code is very similar to what you would see in R, MATLAB, or Python. \n",
    "\n",
    "## Imports"
   ]
  },
  {
   "cell_type": "code",
   "execution_count": null,
   "id": "d6455f0a-10c8-4284-93dd-cc06fd5495ff",
   "metadata": {
    "execution": {
     "iopub.execute_input": "2022-06-12T22:21:19.089000Z",
     "iopub.status.busy": "2022-06-12T22:21:18.602000Z",
     "iopub.status.idle": "2022-06-12T22:21:38.135000Z",
     "shell.execute_reply": "2022-06-12T22:21:38.058000Z"
    },
    "tags": []
   },
   "outputs": [],
   "source": [
    "using Statistics     \n",
    "using Flux\n",
    "using Flux.MLUtils: DataLoader\n",
    "using Flux.Losses: logitcrossentropy\n",
    "using MLDatasets\n",
    "using Images\n",
    "using Flux: onehotbatch, onecold, flatten, gradient\n",
    "using CUDA"
   ]
  },
  {
   "cell_type": "markdown",
   "id": "0870269b",
   "metadata": {},
   "source": [
    "We set the following environment variable to avoid having to type 'y' when downloading the CIFAR-10 dataset."
   ]
  },
  {
   "cell_type": "code",
   "execution_count": null,
   "id": "1e04ae2e-0acd-4ac6-97d8-fdfa164d2460",
   "metadata": {
    "execution": {
     "iopub.execute_input": "2022-06-12T22:21:38.590000Z",
     "iopub.status.busy": "2022-06-12T22:21:38.135000Z",
     "iopub.status.idle": "2022-06-12T22:21:39.350000Z",
     "shell.execute_reply": "2022-06-12T22:21:39.350000Z"
    },
    "tags": []
   },
   "outputs": [],
   "source": [
    "ENV[\"DATADEPS_ALWAYS_ACCEPT\"] = true;"
   ]
  },
  {
   "cell_type": "markdown",
   "id": "71152766",
   "metadata": {},
   "source": [
    "These are the parameters we will use to train the model."
   ]
  },
  {
   "cell_type": "code",
   "execution_count": null,
   "id": "9ae4f4d0-f208-4669-9e15-2e9c13b35580",
   "metadata": {
    "execution": {
     "iopub.execute_input": "2022-06-12T22:21:39.350000Z",
     "iopub.status.busy": "2022-06-12T22:21:39.350000Z",
     "iopub.status.idle": "2022-06-12T22:21:39.351000Z",
     "shell.execute_reply": "2022-06-12T22:21:39.351000Z"
    },
    "tags": []
   },
   "outputs": [],
   "source": [
    "batchsize = 128\n",
    "learning_rate = 3e-4\n",
    "epochs = 2\n",
    "validationsplit = 0.2;"
   ]
  },
  {
   "cell_type": "markdown",
   "id": "c38c56de",
   "metadata": {},
   "source": [
    "We need to check if there is a CUDA GPU attached to the resource. This sets the device to train on appropriately."
   ]
  },
  {
   "cell_type": "code",
   "execution_count": null,
   "id": "24107c42-7f9e-4fae-885d-c8f1d704d858",
   "metadata": {
    "execution": {
     "iopub.execute_input": "2022-06-12T22:21:39.351000Z",
     "iopub.status.busy": "2022-06-12T22:21:39.351000Z",
     "iopub.status.idle": "2022-06-12T22:21:41.183000Z",
     "shell.execute_reply": "2022-06-12T22:21:41.183000Z"
    },
    "tags": []
   },
   "outputs": [],
   "source": [
    "if CUDA.functional()\n",
    "    @info \"Training on CUDA GPU\"\n",
    "    CUDA.allowscalar(false)\n",
    "    device = gpu\n",
    "else\n",
    "    @info \"Training on CPU\"\n",
    "    device = cpu\n",
    "end"
   ]
  },
  {
   "cell_type": "markdown",
   "id": "6d8d4fb1",
   "metadata": {},
   "source": [
    "Next, we download the data and create DataLoaders to pass batches of data when training."
   ]
  },
  {
   "cell_type": "code",
   "execution_count": null,
   "id": "a572ab66-b0b7-4da7-9d6c-e7773aa3133f",
   "metadata": {
    "execution": {
     "iopub.execute_input": "2022-06-12T22:21:41.183000Z",
     "iopub.status.busy": "2022-06-12T22:21:41.183000Z",
     "iopub.status.idle": "2022-06-12T22:21:45.159000Z",
     "shell.execute_reply": "2022-06-12T22:21:45.159000Z"
    },
    "tags": []
   },
   "outputs": [],
   "source": [
    "traindata = CIFAR10(; Tx=Float32, split=:train)\n",
    "testdata = CIFAR10(; Tx=Float32, split=:test)\n",
    "\n",
    "classes = traindata.metadata[\"class_names\"]\n",
    "\n",
    "(xtrain, ytrain), (xvalid, yvalid) = Flux.MLUtils.splitobs((traindata.features, traindata.targets), at=1-validationsplit)\n",
    "xtest, ytest = testdata.features, testdata.targets\n",
    "\n",
    "ytrain, yvalid, ytest = onehotbatch(ytrain, 0:9), onehotbatch(yvalid, 0:9), onehotbatch(ytest, 0:9)\n",
    "\n",
    "train_loader = DataLoader((xtrain, ytrain), batchsize=batchsize, shuffle=true)\n",
    "valid_loader = DataLoader((xvalid, yvalid), batchsize=batchsize)\n",
    "test_loader = DataLoader((xtest, ytest),  batchsize=batchsize);"
   ]
  },
  {
   "cell_type": "markdown",
   "id": "8ccb0c48",
   "metadata": {},
   "source": [
    "Let's take a look at one of the CIFAR-10 pictures to get a sense of the data. We permute the dimensions to conform with the Image library expectations."
   ]
  },
  {
   "cell_type": "code",
   "execution_count": null,
   "id": "4466f9ea-60d4-4200-80a4-406555ba58d6",
   "metadata": {
    "execution": {
     "iopub.execute_input": "2022-06-12T22:31:47.555000Z",
     "iopub.status.busy": "2022-06-12T22:31:47.555000Z",
     "iopub.status.idle": "2022-06-12T22:31:47.559000Z",
     "shell.execute_reply": "2022-06-12T22:31:47.559000Z"
    },
    "tags": []
   },
   "outputs": [],
   "source": [
    "colorview(RGB, permutedims(xtrain[:,:,:,1], (3, 2, 1,)))"
   ]
  },
  {
   "cell_type": "markdown",
   "id": "81f4518c",
   "metadata": {},
   "source": [
    "This appears to be a picture of a frog. Let's check the actual class."
   ]
  },
  {
   "cell_type": "code",
   "execution_count": null,
   "id": "9280c16a-a8c1-4501-9f0f-db9c3d51f98b",
   "metadata": {
    "execution": {
     "iopub.execute_input": "2022-06-12T22:31:50.230000Z",
     "iopub.status.busy": "2022-06-12T22:31:50.230000Z",
     "iopub.status.idle": "2022-06-12T22:31:50.232000Z",
     "shell.execute_reply": "2022-06-12T22:31:50.232000Z"
    },
    "tags": []
   },
   "outputs": [],
   "source": [
    "classes[ytrain[:,1]]"
   ]
  },
  {
   "cell_type": "markdown",
   "id": "cc2d6901",
   "metadata": {},
   "source": [
    "Next, we define a simple CNN model to train. Using different layers, you could create more complex models. Check out the [MetalHead.jl library](https://github.com/FluxML/Metalhead.jl) for some prebuilt standard models. "
   ]
  },
  {
   "cell_type": "code",
   "execution_count": null,
   "id": "0776db19-2aa0-4d72-bfc8-9c583e41cebb",
   "metadata": {
    "execution": {
     "iopub.execute_input": "2022-06-12T22:21:51.170000Z",
     "iopub.status.busy": "2022-06-12T22:21:51.170000Z",
     "iopub.status.idle": "2022-06-12T22:21:52.097000Z",
     "shell.execute_reply": "2022-06-12T22:21:52.097000Z"
    },
    "tags": []
   },
   "outputs": [],
   "source": [
    "model = Chain(\n",
    "    Conv((5,5),  3=>16, relu), \n",
    "    MaxPool((2,2)),\n",
    "    Conv((5, 5), 16=>8, relu),\n",
    "    flatten,\n",
    "    Dense(8*4*5*5, 120),\n",
    "    Dense(120, 84),\n",
    "    Dense(84, 10)\n",
    ");"
   ]
  },
  {
   "cell_type": "markdown",
   "id": "c83f30fa",
   "metadata": {},
   "source": [
    "We need to move the model to the correct device, and then set our loss and optimization functions. We also need to pull out the parameters of the model so we can pass them to the training function."
   ]
  },
  {
   "cell_type": "code",
   "execution_count": null,
   "id": "f2397a9b-f82a-4104-bd48-cd663d4941ed",
   "metadata": {
    "execution": {
     "iopub.execute_input": "2022-06-12T22:21:52.098000Z",
     "iopub.status.busy": "2022-06-12T22:21:52.098000Z",
     "iopub.status.idle": "2022-06-12T22:21:54.959000Z",
     "shell.execute_reply": "2022-06-12T22:21:54.959000Z"
    },
    "tags": []
   },
   "outputs": [],
   "source": [
    "model = model |> device\n",
    "loss(x, y) = logitcrossentropy(model(x), y)\n",
    "opt = ADAM(learning_rate)\n",
    "ps = Flux.params(model);"
   ]
  },
  {
   "cell_type": "markdown",
   "id": "d8e80b04",
   "metadata": {},
   "source": [
    "Let's train the model!\n",
    "\n",
    "Here we move the data to the correct device, calculate a gradient on the loss function, and update the model based on our optimization function. We then check the model on our validation data and show the output."
   ]
  },
  {
   "cell_type": "code",
   "execution_count": null,
   "id": "25a8f8e2-28a5-4799-984d-79f4dbfc754f",
   "metadata": {
    "execution": {
     "iopub.execute_input": "2022-06-12T22:21:54.960000Z",
     "iopub.status.busy": "2022-06-12T22:21:54.959000Z",
     "iopub.status.idle": "2022-06-12T22:24:43.843000Z",
     "shell.execute_reply": "2022-06-12T22:24:43.843000Z"
    },
    "tags": []
   },
   "outputs": [],
   "source": [
    "for epoch in 1:epochs\n",
    "    for (x, y) in train_loader\n",
    "        x, y = x |> device, y |> device\n",
    "        gs = Flux.gradient(() -> loss(x,y), ps)\n",
    "        Flux.update!(opt, ps, gs)\n",
    "    end\n",
    "\n",
    "    validation_loss = 0f0\n",
    "    for (x, y) in valid_loader\n",
    "        x, y = x |> device, y |> device\n",
    "        validation_loss += loss(x, y)\n",
    "    end\n",
    "    validation_loss /= length(valid_loader)\n",
    "    @show validation_loss\n",
    "end"
   ]
  },
  {
   "cell_type": "markdown",
   "id": "5530df1d",
   "metadata": {},
   "source": [
    "So how well did we do? Here we calculate the overall accuracy of the model on the test set."
   ]
  },
  {
   "cell_type": "code",
   "execution_count": null,
   "id": "f989f5a9-967e-4b0a-8a69-8db98f70f1a6",
   "metadata": {
    "execution": {
     "iopub.execute_input": "2022-06-12T22:24:43.843000Z",
     "iopub.status.busy": "2022-06-12T22:24:43.843000Z",
     "iopub.status.idle": "2022-06-12T22:24:45.206000Z",
     "shell.execute_reply": "2022-06-12T22:24:45.205000Z"
    }
   },
   "outputs": [],
   "source": [
    "correct, total = 0, 0\n",
    "for (x, y) in test_loader\n",
    "    x, y = x |> device, y |> device\n",
    "    correct += sum(onecold(cpu(model(x))) .== onecold(cpu(y)))\n",
    "    total += size(y, 2)\n",
    "end\n",
    "test_accuracy = correct / total;\n",
    "\n",
    "# Print the final accuracy\n",
    "@show test_accuracy"
   ]
  },
  {
   "cell_type": "markdown",
   "id": "c82e4501",
   "metadata": {},
   "source": [
    "We also want to see how well we did on each individual class of the training data."
   ]
  },
  {
   "cell_type": "code",
   "execution_count": null,
   "id": "ce3b2a06-8839-484b-a702-c5de8b4f238b",
   "metadata": {
    "execution": {
     "iopub.execute_input": "2022-06-12T23:08:53.590000Z",
     "iopub.status.busy": "2022-06-12T23:08:53.589000Z",
     "iopub.status.idle": "2022-06-12T23:08:53.835000Z",
     "shell.execute_reply": "2022-06-12T23:08:53.835000Z"
    }
   },
   "outputs": [],
   "source": [
    "correct_pred = Dict(zip(classes,zeros(10)))\n",
    "total_pred = Dict(zip(classes,zeros(10)))\n",
    "        \n",
    "for (x, y) in test_loader\n",
    "    x, y = x |> device, y |> device\n",
    "    outputs = cpu(model(x))\n",
    "    predictions = mapslices(argmax,outputs,dims=1)\n",
    "    lebels = mapslices(argmax,cpu(y),dims=1)\n",
    "    for (label, prediction) in zip(lebels, predictions)\n",
    "        if label == prediction\n",
    "            correct_pred[classes[label]] += 1\n",
    "        end\n",
    "        total_pred[classes[label]] += 1\n",
    "    end\n",
    "end"
   ]
  },
  {
   "cell_type": "code",
   "execution_count": null,
   "id": "69514d1e-4525-4966-8410-511c921dd7f8",
   "metadata": {
    "execution": {
     "iopub.execute_input": "2022-06-12T23:08:54.097000Z",
     "iopub.status.busy": "2022-06-12T23:08:54.096000Z",
     "iopub.status.idle": "2022-06-12T23:08:54.113000Z",
     "shell.execute_reply": "2022-06-12T23:08:54.113000Z"
    }
   },
   "outputs": [],
   "source": [
    "for (classname, correct_count) in correct_pred\n",
    "    accuracy = 100 * correct_count/total_pred[classname]\n",
    "    println(\"Accuracy for class: $classname is $accuracy%.\")\n",
    "end"
   ]
  },
  {
   "cell_type": "markdown",
   "id": "4ef0f1c9-8365-4c7c-9fb5-317fd13e0945",
   "metadata": {},
   "source": [
    "Lastly, let's check a single image and see what the model predicts."
   ]
  },
  {
   "cell_type": "code",
   "execution_count": null,
   "id": "be7bf99e-cad0-49c8-9790-5fd4a0d94c08",
   "metadata": {
    "execution": {
     "iopub.execute_input": "2022-06-12T23:10:31.763000Z",
     "iopub.status.busy": "2022-06-12T23:10:31.763000Z",
     "iopub.status.idle": "2022-06-12T23:10:31.767000Z",
     "shell.execute_reply": "2022-06-12T23:10:31.767000Z"
    },
    "tags": []
   },
   "outputs": [],
   "source": [
    "colorview(RGB, permutedims(xtest[:,:,:,2], (3, 2, 1,)))"
   ]
  },
  {
   "cell_type": "code",
   "execution_count": null,
   "id": "047de4c7-e5ea-45ec-897e-b4c007cffe1a",
   "metadata": {
    "execution": {
     "iopub.execute_input": "2022-06-12T23:10:35.412000Z",
     "iopub.status.busy": "2022-06-12T23:10:35.412000Z",
     "iopub.status.idle": "2022-06-12T23:10:35.415000Z",
     "shell.execute_reply": "2022-06-12T23:10:35.415000Z"
    },
    "tags": []
   },
   "outputs": [],
   "source": [
    "classes[ytest[:,2]]"
   ]
  },
  {
   "cell_type": "code",
   "execution_count": null,
   "id": "174542e6-9cc2-4ee9-b8e3-4efd0d5de046",
   "metadata": {
    "execution": {
     "iopub.execute_input": "2022-06-12T23:10:56.554000Z",
     "iopub.status.busy": "2022-06-12T23:10:56.554000Z",
     "iopub.status.idle": "2022-06-12T23:10:56.555000Z",
     "shell.execute_reply": "2022-06-12T23:10:56.555000Z"
    },
    "tags": []
   },
   "outputs": [],
   "source": [
    "testing = reshape(xtest[:,:,:,2],(32,32,3,1)) |> device;"
   ]
  },
  {
   "cell_type": "code",
   "execution_count": null,
   "id": "c5f72089-902c-4c3b-9394-1287858c7de3",
   "metadata": {
    "execution": {
     "iopub.execute_input": "2022-06-12T23:10:57.182000Z",
     "iopub.status.busy": "2022-06-12T23:10:57.181000Z",
     "iopub.status.idle": "2022-06-12T23:10:57.183000Z",
     "shell.execute_reply": "2022-06-12T23:10:57.183000Z"
    },
    "tags": []
   },
   "outputs": [],
   "source": [
    "classes[argmax(model(testing))]"
   ]
  }
 ],
 "metadata": {
  "kernelspec": {
   "display_name": "Julia 1.7.2",
   "language": "julia",
   "name": "julia-1.7"
  },
  "language_info": {
   "file_extension": ".jl",
   "mimetype": "application/julia",
   "name": "julia",
   "version": "1.7.2"
  }
 },
 "nbformat": 4,
 "nbformat_minor": 5
}
