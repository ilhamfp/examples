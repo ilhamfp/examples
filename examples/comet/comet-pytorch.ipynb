{
 "cells": [
  {
   "cell_type": "markdown",
   "id": "b8954812",
   "metadata": {},
   "source": [
    "# Track and Compare Models with Comet"
   ]
  },
  {
   "cell_type": "markdown",
   "id": "11e1e3e6",
   "metadata": {},
   "source": [
    "![Comet Logo](https://saturn-public-assets.s3.us-east-2.amazonaws.com/example-resources/comet-logo.png \"doc-image\")"
   ]
  },
  {
   "cell_type": "markdown",
   "metadata": {},
   "source": [
    "## Overview\n",
    "\n",
    "[Comet](https://www.comet.ml/) is a platform for tracking, comparing, and visualizing your modeling workflows. This example shows how to use Comet on the Saturn Cloud platform by creating a PyTorch classification model of the MNIST digits dataset, but Comet can be used to log many types of model training. Check out the rest of the [Comet documentation](https://www.comet.ml/docs/) for examples of how to integrate Comet with other frameworks and languages. \n",
    "\n",
    "## Process\n",
    "\n",
    "### Find your Comet API key and workspace name\n",
    "\n",
    "Follow the [Comet instructions](https://www.comet.ml/docs/user-interface/) to find the workspace name where you want to log this modeling run and the corresponding API key.\n",
    "\n",
    "### Add your Comet API key to Saturn Cloud\n",
    "\n",
    "You need to save your Comet API key and workspace name as credentials in Saturn Cloud. Saturn Cloud credentials allow you to save these values securely - they will not be available to the public or other users without your consent. \n",
    "\n",
    "To save these values, sign in to your Saturn Cloud account and select **Credentials** from the menu on the left.\n",
    "\n",
    "<img src=\"https://saturn-public-assets.s3.us-east-2.amazonaws.com/example-resources/saturn-credentials-arrow.jpeg\" style=\"width:200px;\" alt=\"Saturn Cloud left menu with arrow pointing to Credentials tab\" class=\"doc-image\">\n",
    "\n",
    "At the top right corner of this page, you will find the **New** button. Click here, and you will be taken to the Credentials Creation form. \n",
    "\n",
    "![Screenshot of Saturn Cloud Create Credentials form](https://saturn-public-assets.s3.us-east-2.amazonaws.com/example-resources/credentials.jpg \"doc-image\")\n",
    "\n",
    "You will be adding two credentials items: your Comet workspace name and API key. Complete the form one time for each item. \n",
    "\n",
    "|  Credential | Type  | Name| Variable Name  |\n",
    "|---|---|---|---|\n",
    "| Comet API Key  |  Environment Variable | `comet-api-key`  | `COMET_API_KEY`\n",
    "| Comet Workspace Name  |  Environment Variable | `comet-workspace`  | `COMET_WORKSPACE`\n",
    "\n",
    "### Imports\n",
    "\n",
    "To properly log your experiments, run `import comet_ml` at the beginning of your script. This line needs to run first for Comet to log properly."
   ]
  },
  {
   "cell_type": "code",
   "execution_count": null,
   "id": "89c44d95-a5a5-429d-90a1-6756b59f15f1",
   "metadata": {
    "execution": {
     "iopub.execute_input": "2022-04-19T22:38:16.777606Z",
     "iopub.status.busy": "2022-04-19T22:38:16.777277Z",
     "iopub.status.idle": "2022-04-19T22:38:17.042748Z",
     "shell.execute_reply": "2022-04-19T22:38:17.042216Z",
     "shell.execute_reply.started": "2022-04-19T22:38:16.777540Z"
    },
    "tags": []
   },
   "outputs": [],
   "source": [
    "import comet_ml"
   ]
  },
  {
   "cell_type": "markdown",
   "id": "73a6744d",
   "metadata": {},
   "source": [
    "After you import `comet_ml`, import the rest of your libraries as you would normally."
   ]
  },
  {
   "cell_type": "code",
   "execution_count": null,
   "id": "fdc084d3-fe57-4129-b16f-9da4945cdb98",
   "metadata": {
    "execution": {
     "iopub.execute_input": "2022-04-19T22:38:17.229041Z",
     "iopub.status.busy": "2022-04-19T22:38:17.228758Z",
     "iopub.status.idle": "2022-04-19T22:38:17.680215Z",
     "shell.execute_reply": "2022-04-19T22:38:17.679677Z",
     "shell.execute_reply.started": "2022-04-19T22:38:17.229004Z"
    },
    "tags": []
   },
   "outputs": [],
   "source": [
    "import torch\n",
    "import torch.nn as nn\n",
    "import torchvision.datasets as dsets\n",
    "import torchvision.transforms as transforms\n",
    "from torch.autograd import Variable"
   ]
  },
  {
   "cell_type": "markdown",
   "id": "43824b18",
   "metadata": {},
   "source": [
    "### Define your experiment\n",
    "\n",
    "The core class of Comet is an Experiment. An Experiment allows you to log your model hyperparameters, code, metrics and model configuration. The `Experiment` class pulls the credentials you set earlier to properly authenticate your session. After you run this line, you will see a link to comet.ml where you can view the modeling logs."
   ]
  },
  {
   "cell_type": "code",
   "execution_count": null,
   "id": "ed94a8aa-6017-4a3a-8512-cb4f00b80a41",
   "metadata": {
    "execution": {
     "iopub.execute_input": "2022-04-19T22:38:43.412059Z",
     "iopub.status.busy": "2022-04-19T22:38:43.411789Z",
     "iopub.status.idle": "2022-04-19T22:38:44.936679Z",
     "shell.execute_reply": "2022-04-19T22:38:44.936045Z",
     "shell.execute_reply.started": "2022-04-19T22:38:43.412035Z"
    },
    "tags": []
   },
   "outputs": [],
   "source": [
    "experiment = comet_ml.Experiment(project_name=\"pytorch\")"
   ]
  },
  {
   "cell_type": "markdown",
   "id": "2e036a5b",
   "metadata": {},
   "source": [
    "Next, we specify and log the hyperparameters for this session as a dictionary."
   ]
  },
  {
   "cell_type": "code",
   "execution_count": null,
   "id": "a38f1991-b825-47ea-9fd7-e991726ee00b",
   "metadata": {
    "execution": {
     "iopub.execute_input": "2022-04-19T22:38:49.589245Z",
     "iopub.status.busy": "2022-04-19T22:38:49.587716Z",
     "iopub.status.idle": "2022-04-19T22:38:49.598377Z",
     "shell.execute_reply": "2022-04-19T22:38:49.597749Z",
     "shell.execute_reply.started": "2022-04-19T22:38:49.589199Z"
    },
    "tags": []
   },
   "outputs": [],
   "source": [
    "hyper_params = {\n",
    "    \"sequence_length\": 28,\n",
    "    \"input_size\": 28,\n",
    "    \"hidden_size\": 128,\n",
    "    \"num_layers\": 2,\n",
    "    \"num_classes\": 10,\n",
    "    \"batch_size\": 100,\n",
    "    \"num_epochs\": 2,\n",
    "    \"learning_rate\": 0.01,\n",
    "}\n",
    "experiment.log_parameters(hyper_params)"
   ]
  },
  {
   "cell_type": "markdown",
   "id": "3c6ae141",
   "metadata": {},
   "source": [
    "### Set up the modeling run\n",
    "\n",
    "The next cells are exactly the same as you would expect in any other PyTorch workflow. Load the MNIST dataset from `torchvison`, specify your dataloaders, define the model based on your hyperparameters, and define your loss and optimizer functions."
   ]
  },
  {
   "cell_type": "code",
   "execution_count": null,
   "id": "9bba0f65-2d75-4498-903b-e10226e6c38d",
   "metadata": {
    "execution": {
     "iopub.execute_input": "2022-04-19T22:38:49.912314Z",
     "iopub.status.busy": "2022-04-19T22:38:49.912052Z",
     "iopub.status.idle": "2022-04-19T22:38:50.111151Z",
     "shell.execute_reply": "2022-04-19T22:38:50.110490Z",
     "shell.execute_reply.started": "2022-04-19T22:38:49.912286Z"
    },
    "tags": []
   },
   "outputs": [],
   "source": [
    "# MNIST Dataset\n",
    "train_dataset = dsets.MNIST(\n",
    "    root=\"./data/\", train=True, transform=transforms.ToTensor(), download=True\n",
    ")\n",
    "\n",
    "test_dataset = dsets.MNIST(root=\"./data/\", train=False, transform=transforms.ToTensor())"
   ]
  },
  {
   "cell_type": "code",
   "execution_count": null,
   "id": "49225e92-a0d0-4c9b-8672-6b81f5019ea7",
   "metadata": {
    "execution": {
     "iopub.execute_input": "2022-04-19T22:38:50.118344Z",
     "iopub.status.busy": "2022-04-19T22:38:50.115857Z",
     "iopub.status.idle": "2022-04-19T22:38:50.124881Z",
     "shell.execute_reply": "2022-04-19T22:38:50.124278Z",
     "shell.execute_reply.started": "2022-04-19T22:38:50.118308Z"
    },
    "tags": []
   },
   "outputs": [],
   "source": [
    "# Data Loader (Input Pipeline)\n",
    "train_loader = torch.utils.data.DataLoader(\n",
    "    dataset=train_dataset, batch_size=hyper_params[\"batch_size\"], shuffle=True\n",
    ")\n",
    "\n",
    "test_loader = torch.utils.data.DataLoader(\n",
    "    dataset=test_dataset, batch_size=hyper_params[\"batch_size\"], shuffle=False\n",
    ")"
   ]
  },
  {
   "cell_type": "code",
   "execution_count": null,
   "id": "fe8ab359-e249-459a-840f-171b635b71b7",
   "metadata": {
    "execution": {
     "iopub.execute_input": "2022-04-19T22:38:50.281630Z",
     "iopub.status.busy": "2022-04-19T22:38:50.281052Z",
     "iopub.status.idle": "2022-04-19T22:38:50.297741Z",
     "shell.execute_reply": "2022-04-19T22:38:50.297110Z",
     "shell.execute_reply.started": "2022-04-19T22:38:50.281593Z"
    },
    "tags": []
   },
   "outputs": [],
   "source": [
    "# RNN Model (Many-to-One)\n",
    "class RNN(nn.Module):\n",
    "    def __init__(self, input_size, hidden_size, num_layers, num_classes):\n",
    "        super(RNN, self).__init__()\n",
    "        self.hidden_size = hidden_size\n",
    "        self.num_layers = num_layers\n",
    "        self.lstm = nn.LSTM(input_size, hidden_size, num_layers, batch_first=True)\n",
    "        self.fc = nn.Linear(hidden_size, num_classes)\n",
    "\n",
    "    def forward(self, x):\n",
    "        # Set initial states\n",
    "        h0 = Variable(torch.zeros(self.num_layers, x.size(0), self.hidden_size))\n",
    "        c0 = Variable(torch.zeros(self.num_layers, x.size(0), self.hidden_size))\n",
    "\n",
    "        # Forward propagate RNN\n",
    "        out, _ = self.lstm(x, (h0, c0))\n",
    "\n",
    "        # Decode hidden state of last time step\n",
    "        out = self.fc(out[:, -1, :])\n",
    "        return out\n",
    "\n",
    "\n",
    "rnn = RNN(\n",
    "    hyper_params[\"input_size\"],\n",
    "    hyper_params[\"hidden_size\"],\n",
    "    hyper_params[\"num_layers\"],\n",
    "    hyper_params[\"num_classes\"],\n",
    ")"
   ]
  },
  {
   "cell_type": "code",
   "execution_count": null,
   "id": "edf4e786-c382-4095-ada5-faf5e3e6993d",
   "metadata": {
    "execution": {
     "iopub.execute_input": "2022-04-19T22:38:50.431866Z",
     "iopub.status.busy": "2022-04-19T22:38:50.431579Z",
     "iopub.status.idle": "2022-04-19T22:38:50.441163Z",
     "shell.execute_reply": "2022-04-19T22:38:50.438958Z",
     "shell.execute_reply.started": "2022-04-19T22:38:50.431832Z"
    },
    "tags": []
   },
   "outputs": [],
   "source": [
    "# Loss and Optimizer\n",
    "criterion = nn.CrossEntropyLoss()\n",
    "optimizer = torch.optim.Adam(rnn.parameters(), lr=hyper_params[\"learning_rate\"])"
   ]
  },
  {
   "cell_type": "markdown",
   "id": "795ee385",
   "metadata": {},
   "source": [
    "### Train the model\n",
    "\n",
    "Finally, we train the model. There are a few additions here for additional logging in Comet. The first is the `with experiment.train()` and `with experiment.test()`, which tells Comet that the following code is part of a training or test workflow respectively and should be logged as such. We also log our metric of choice using `experiment.log_metric()`."
   ]
  },
  {
   "cell_type": "code",
   "execution_count": null,
   "id": "3e7fabd7-77b3-4bed-bc38-4d2cf7cec0d7",
   "metadata": {
    "execution": {
     "iopub.execute_input": "2022-04-19T22:38:50.578385Z",
     "iopub.status.busy": "2022-04-19T22:38:50.578121Z"
    },
    "tags": []
   },
   "outputs": [],
   "source": [
    "# Train the Model\n",
    "with experiment.train():\n",
    "    step = 0\n",
    "    for epoch in range(hyper_params[\"num_epochs\"]):\n",
    "        correct = 0\n",
    "        total = 0\n",
    "        for i, (images, labels) in enumerate(train_loader):\n",
    "            images = Variable(\n",
    "                images.view(-1, hyper_params[\"sequence_length\"], hyper_params[\"input_size\"])\n",
    "            )\n",
    "            labels = Variable(labels)\n",
    "\n",
    "            # Forward + Backward + Optimize\n",
    "            optimizer.zero_grad()\n",
    "            outputs = rnn(images)\n",
    "            loss = criterion(outputs, labels)\n",
    "            loss.backward()\n",
    "            optimizer.step()\n",
    "\n",
    "            # Compute train accuracy\n",
    "            _, predicted = torch.max(outputs.data, 1)\n",
    "            batch_total = labels.size(0)\n",
    "            total += batch_total\n",
    "\n",
    "            batch_correct = (predicted == labels.data).sum()\n",
    "            correct += batch_correct\n",
    "\n",
    "            # Log batch_accuracy to Comet.ml; step is each batch\n",
    "            step += 1\n",
    "            experiment.log_metric(\"batch_accuracy\", batch_correct / batch_total, step=step)\n",
    "\n",
    "            if (i + 1) % 100 == 0:\n",
    "                print(\n",
    "                    \"Epoch [%d/%d], Step [%d/%d], Loss: %.4f\"\n",
    "                    % (\n",
    "                        epoch + 1,\n",
    "                        hyper_params[\"num_epochs\"],\n",
    "                        i + 1,\n",
    "                        len(train_dataset) // hyper_params[\"batch_size\"],\n",
    "                        loss.item(),\n",
    "                    )\n",
    "                )\n",
    "\n",
    "        # Log epoch accuracy to Comet.ml; step is each epoch\n",
    "        experiment.log_metric(\"batch_accuracy\", correct / total, step=epoch)\n",
    "\n",
    "\n",
    "with experiment.test():\n",
    "    # Test the Model\n",
    "    correct = 0\n",
    "    total = 0\n",
    "    for images, labels in test_loader:\n",
    "        images = Variable(\n",
    "            images.view(-1, hyper_params[\"sequence_length\"], hyper_params[\"input_size\"])\n",
    "        )\n",
    "        outputs = rnn(images)\n",
    "        _, predicted = torch.max(outputs.data, 1)\n",
    "        total += labels.size(0)\n",
    "        correct += (predicted == labels).sum()\n",
    "\n",
    "    experiment.log_metric(\"accuracy\", correct / total)\n",
    "    print(\"Test Accuracy of the model on the 10000 test images: %d %%\" % (100 * correct / total))"
   ]
  },
  {
   "cell_type": "markdown",
   "id": "88026bda",
   "metadata": {},
   "source": [
    "### Complete your logging session\n",
    "\n",
    "Lastly, because we are working in a Jupyter Notebook, we need to call `experiment.end()`. This will fully sync the run with Comet to complete the logging. If you are running your training code as a script, you do not need this line."
   ]
  },
  {
   "cell_type": "code",
   "execution_count": null,
   "id": "b32fe084-f155-47f9-a82e-594fcb29ae76",
   "metadata": {
    "tags": []
   },
   "outputs": [],
   "source": [
    "experiment.end()"
   ]
  },
  {
   "cell_type": "markdown",
   "id": "18d8f5d0",
   "metadata": {},
   "source": [
    "Your training run will now be shown on your Comet dashboard under a project called \"pytorch\". Notice that Comet logged the full environment specifications, model metrics, code, and more. Try running the code again with different hyperparameters to see and compare the additional training runs."
   ]
  }
 ],
 "metadata": {
  "kernelspec": {
   "display_name": "saturn (Python 3)",
   "language": "python",
   "name": "python3"
  },
  "language_info": {
   "codemirror_mode": {
    "name": "ipython",
    "version": 3
   },
   "file_extension": ".py",
   "mimetype": "text/x-python",
   "name": "python",
   "nbconvert_exporter": "python",
   "pygments_lexer": "ipython3",
   "version": "3.10.4"
  }
 },
 "nbformat": 4,
 "nbformat_minor": 5
}
